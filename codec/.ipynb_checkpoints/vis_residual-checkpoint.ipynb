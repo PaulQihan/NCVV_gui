{
 "cells": [
  {
   "cell_type": "code",
   "execution_count": 4,
   "metadata": {},
   "outputs": [],
   "source": [
    "import torch\n",
    "import os\n",
    "import copy\n",
    "\n",
    "from mpl_toolkits import mplot3d\n",
    "import numpy as np\n",
    "import matplotlib.pyplot as plt"
   ]
  },
  {
   "cell_type": "code",
   "execution_count": 3,
   "metadata": {},
   "outputs": [
    {
     "name": "stdout",
     "output_type": "stream",
     "text": [
      "process frame 0\n",
      "torch.Size([1, 1, 130, 286, 109])\n",
      "torch.Size([1, 12, 130, 286, 109])\n",
      "process frame 1\n",
      "torch.Size([1, 1, 130, 286, 109])\n",
      "torch.Size([1, 12, 130, 286, 109])\n",
      "torch.Size([1, 130, 286, 109])\n",
      "mask torch.Size([2, 1, 130, 286, 109])\n",
      "torch.Size([1, 1, 130, 286, 109])\n"
     ]
    },
    {
     "name": "stderr",
     "output_type": "stream",
     "text": [
      "/usr/local/lib/python3.8/dist-packages/torch/functional.py:445: UserWarning: torch.meshgrid: in an upcoming release, it will be required to pass the indexing argument. (Triggered internally at  ../aten/src/ATen/native/TensorShape.cpp:2157.)\n",
      "  return _VF.meshgrid(tensors, **kwargs)  # type: ignore[attr-defined]\n"
     ]
    }
   ],
   "source": [
    "path = '/data/new_disk2/wangla/tmp/NCVV/logs/NHR/xzq_white_frames'\n",
    "\n",
    "frame_length=2\n",
    "big_datas = []\n",
    "masks=[]\n",
    "for frame_id in range(frame_length):\n",
    "    print('process frame', frame_id)\n",
    "    ckpt_path = os.path.join(path, 'fine_last_%d.tar' % frame_id)\n",
    "    ckpt = torch.load(ckpt_path)\n",
    "    model_states = ckpt['model_state_dict']\n",
    "\n",
    "    density = model_states['density'].cpu() # torch.Size([1, 1, 130, 286, 109])\n",
    "    feature = model_states['k0.k0'].cpu() # torch.Size([1, 12, 130, 286, 109])\n",
    "\n",
    "    print(density.size())\n",
    "    print(feature.size())\n",
    "\n",
    "    cnt_mask = torch.nn.functional.softplus(density - 4.1) > 0.4 # minye的经验值，之后的数据可能需要细调？？？\n",
    "    masks.append(cnt_mask)\n",
    "\n",
    "    big_data = torch.cat([density, feature], dim=1)\n",
    "    big_datas.append(big_data)\n",
    "\n",
    "\n",
    "big_data = torch.cat(big_datas)\n",
    "residual=(big_data[1:]-big_data[:-1])\n",
    "\n",
    "value=torch.linalg.vector_norm(residual,dim=1)\n",
    "print(value.size())\n",
    "\n",
    "masks=torch.cat(masks)\n",
    "print('mask', masks.size())\n",
    "masks=masks[1:] * masks[:-1]\n",
    "print(masks.size())\n",
    "\n",
    "x = torch.linspace(0, 10, steps=big_data.size(2))\n",
    "y = torch.linspace(0, 10, steps=big_data.size(3))\n",
    "z = torch.linspace(0, 10, steps=big_data.size(4))\n",
    "grid_x, grid_y, grid_z = torch.meshgrid(x, y, z)\n",
    "xyz = torch.stack([grid_x, grid_y, grid_z], dim=-1)  # (L,L,L,3)\n",
    "\n",
    "xyz = xyz.reshape((-1, 3))  # (L*L*L,3)"
   ]
  },
  {
   "cell_type": "markdown",
   "metadata": {},
   "source": [
    "Visualize"
   ]
  },
  {
   "cell_type": "code",
   "execution_count": null,
   "metadata": {},
   "outputs": [],
   "source": []
  }
 ],
 "metadata": {
  "kernelspec": {
   "display_name": "Python 3",
   "language": "python",
   "name": "python3"
  },
  "language_info": {
   "codemirror_mode": {
    "name": "ipython",
    "version": 3
   },
   "file_extension": ".py",
   "mimetype": "text/x-python",
   "name": "python",
   "nbconvert_exporter": "python",
   "pygments_lexer": "ipython3",
   "version": "3.8.5"
  }
 },
 "nbformat": 4,
 "nbformat_minor": 4
}
